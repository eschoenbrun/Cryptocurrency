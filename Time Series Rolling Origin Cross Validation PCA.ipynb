{
 "cells": [
  {
   "cell_type": "code",
   "execution_count": 1,
   "metadata": {
    "collapsed": true
   },
   "outputs": [],
   "source": [
    "%matplotlib inline\n",
    "import matplotlib.pyplot as plt\n",
    "import numpy as np\n",
    "import pandas as pd\n",
    "import warnings\n",
    "warnings.filterwarnings(\"ignore\")\n",
    "from pandas import datetime\n",
    "import statsmodels.api as sm\n",
    "from sklearn.model_selection import TimeSeriesSplit\n",
    "from sklearn.model_selection import train_test_split\n",
    "from sklearn.svm import SVR\n",
    "from sklearn.tree import DecisionTreeRegressor\n",
    "from sklearn.ensemble import AdaBoostRegressor\n",
    "from sklearn.decomposition import PCA\n",
    "from time import time\n",
    "from fbprophet import Prophet\n",
    "from causal_impact.causal_impact import CausalImpact\n",
    "from fbprophet.diagnostics import cross_validation\n",
    "from sklearn.metrics import mean_absolute_error"
   ]
  },
  {
   "cell_type": "code",
   "execution_count": 2,
   "metadata": {
    "collapsed": true
   },
   "outputs": [],
   "source": [
    "df_final = pd.DataFrame.from_csv('~\\\\df_final.csv')"
   ]
  },
  {
   "cell_type": "code",
   "execution_count": 3,
   "metadata": {
    "collapsed": true
   },
   "outputs": [],
   "source": [
    "df_final= df_final[::-1]"
   ]
  },
  {
   "cell_type": "code",
   "execution_count": 4,
   "metadata": {
    "collapsed": true
   },
   "outputs": [],
   "source": [
    "X_train = df_final.drop(['Close: t'], axis=1).values[7:]\n",
    "X_test = df_final.drop(['Close: t'], axis=1).values[:7]\n",
    "y_train = df_final['Close: t'].values[7:]\n",
    "y_test = df_final['Close: t'].values[:7]"
   ]
  },
  {
   "cell_type": "code",
   "execution_count": 5,
   "metadata": {},
   "outputs": [
    {
     "name": "stdout",
     "output_type": "stream",
     "text": [
      "[  21.49   42.09   60.2    77.81   92.51  100.    100.    100.    100.\n",
      "  100.    100.    100.    100.    100.    100.    100.    100.    100.\n",
      "  100.    100.    100.    100.    100.    100.    100.    100.    100.\n",
      "  100.    100.    100.    100.    100.    100.    100.    100.    100.\n",
      "  100.    100.    100.    100.    100.    100.    100.    100.    100.\n",
      "  100.    100.    100.    100.    100.    100.    100.    100.    100.\n",
      "  100.    100.    100.    100.    100.    100.    100.    100.    100.\n",
      "  100.    100.    100.    100.    100.    100.    100.    100.  ]\n"
     ]
    },
    {
     "data": {
      "image/png": "[encoded data removed]",
      "text/plain": [
       "<matplotlib.figure.Figure at 0x18e21eefc50>"
      ]
     },
     "metadata": {},
     "output_type": "display_data"
    }
   ],
   "source": [
    "pca_plot = PCA().fit(X_train)\n",
    "pca_plot = np.cumsum(np.round(pca_plot.explained_variance_ratio_, decimals=4)*100)\n",
    "plt.plot(pca_plot)\n",
    "plt.xlabel('number of components')\n",
    "plt.ylabel('cumulative explained variance')\n",
    "print(pca_plot)"
   ]
  },
  {
   "cell_type": "code",
   "execution_count": 6,
   "metadata": {},
   "outputs": [
    {
     "name": "stdout",
     "output_type": "stream",
     "text": [
      "Extracting the top 5 components from 424 variables\n",
      "done in 0.016s\n",
      "Projecting the input data on the orthonormal basis\n",
      "done in 0.000s\n"
     ]
    }
   ],
   "source": [
    "n_components = len(pca_plot[pca_plot < 95])\n",
    "print(\"Extracting the top %d components from %d variables\"\n",
    "      % (n_components, X_train.shape[0]))\n",
    "t0 = time()\n",
    "pca = PCA(n_components=n_components, svd_solver='randomized').fit(X_train)\n",
    "print(\"done in %0.3fs\" % (time() - t0))\n",
    "\n",
    "print(\"Projecting the input data on the orthonormal basis\")\n",
    "t0 = time()\n",
    "X_train_pca = pca.transform(X_train)\n",
    "X_test_pca = pca.transform(X_test)\n",
    "print(\"done in %0.3fs\" % (time() - t0))"
   ]
  },
  {
   "cell_type": "code",
   "execution_count": 7,
   "metadata": {
    "collapsed": true
   },
   "outputs": [],
   "source": [
    "def mean_absolute_percentage_error(y_true, y_pred): \n",
    "    y_true, y_pred = np.array(y_true), np.array(y_pred)\n",
    "    return np.mean(np.abs((y_true - y_pred) / y_true)) * 100"
   ]
  },
  {
   "cell_type": "code",
   "execution_count": 8,
   "metadata": {
    "collapsed": true
   },
   "outputs": [],
   "source": [
    "def performSVR(X_train, y_train, X_test, y_test):\n",
    "    \"\"\"\n",
    "    SVM Regression\n",
    "    \"\"\"\n",
    "    \n",
    "    # Fit regression model\n",
    "    svr_rbf = SVR(kernel='rbf', C=1e3, gamma=0.1)\n",
    "\n",
    "    # Predict\n",
    "    y_pred = svr_rbf.fit(X_train, y_train, ).predict(X_test)\n",
    "\n",
    "    # Measure Accuracy\n",
    "    accuracy_rbf = mean_absolute_percentage_error(y_test, y_pred)\n",
    "    \n",
    "    if np.isinf(accuracy_rbf):\n",
    "        accuracy_rbf = np.nan\n",
    "    \n",
    "    return abs(accuracy_rbf)"
   ]
  },
  {
   "cell_type": "code",
   "execution_count": 10,
   "metadata": {
    "collapsed": true
   },
   "outputs": [],
   "source": [
    "def performAdaBoostR(X_train, y_train, X_test, y_test):\n",
    "    \"\"\"\n",
    "    Ada Boosting binary Classification\n",
    "    \"\"\"\n",
    "    # Fit regression model\n",
    "    #DTR = DecisionTreeRegressor(max_depth=4).fit(X_train, y_train)\n",
    "    ADA = AdaBoostRegressor(DecisionTreeRegressor(max_depth=4), n_estimators=300, random_state=42).fit(X_train, y_train)\n",
    "\n",
    "    # Predict\n",
    "    y_pred = ADA.predict(X_test)\n",
    "    \n",
    "    # Measure Accuracy\n",
    "    accuracy_ADA = mean_absolute_percentage_error(y_test, y_pred)\n",
    "    \n",
    "    return abs(accuracy_ADA)"
   ]
  },
  {
   "cell_type": "code",
   "execution_count": 12,
   "metadata": {
    "collapsed": true
   },
   "outputs": [],
   "source": [
    "def performRegression(X_train, y_train, X_test, y_test, method):\n",
    "\n",
    "    print('Performing ' + method + ' Regression...')   \n",
    "    print('Size of train set: ', X_train.shape)\n",
    "    print('Size of test set: ', X_test.shape)\n",
    "   \n",
    "    if method == 'RF':   \n",
    "        return performRFClass(X_train, y_train, X_test, y_test)\n",
    "        \n",
    "    elif method == 'KNN':\n",
    "        return performKNNClass(X_train, y_train, X_test, y_test)\n",
    "    \n",
    "    elif method == 'SVM':   \n",
    "        return performSVR(X_train, y_train, X_test, y_test)\n",
    "    \n",
    "    elif method == 'ADA':\n",
    "        return performAdaBoostR(X_train, y_train, X_test, y_test)\n",
    "    \n",
    "    elif method == 'GTB': \n",
    "        return performGTBClass(X_train, y_train, X_test, y_test)\n",
    "\n",
    "    elif method == 'QDA': \n",
    "        return performQDAClass(X_train, y_train, X_test, y_test)   "
   ]
  },
  {
   "cell_type": "code",
   "execution_count": 17,
   "metadata": {
    "collapsed": true
   },
   "outputs": [],
   "source": [
    "# Based on http://francescopochetti.com/pythonic-cross-validation-time-series-pandas-scikit-learn/\n",
    "\n",
    "def performTimeSeriesCV(X_train, y_train, number_folds, algorithm):\n",
    "    print('Size train set: ', X_train.shape)\n",
    "    \n",
    "    k = int(np.floor(float(X_train.shape[0]) / number_folds))\n",
    "    print('Size of each fold:', k)\n",
    "    \n",
    "    accuracies = np.zeros(number_folds-1)\n",
    " \n",
    "    # loop from the first 2 folds to the total number of folds    \n",
    "    for i in range(2, number_folds + 1):\n",
    "        print('')\n",
    "        \n",
    "        split = float(i-1)/i\n",
    "        \n",
    "        print('Splitting the first ' + str(i) + ' chunks at ' + str(i-1) + '/' + str(i)) \n",
    "\n",
    "        X = X_train[:(k*i)]\n",
    "        y = y_train[:(k*i)]\n",
    "        print('Size of train + test: ', X.shape) # the size of the dataframe is going to be k*i\n",
    " \n",
    "        index = int(np.floor(X.shape[0] * split))\n",
    "        \n",
    "        X_trainFolds = X[:index]        \n",
    "        y_trainFolds = y[:index]\n",
    "        X_testFold = X[(index + 1):]\n",
    "        y_testFold = y[(index + 1):]\n",
    "        \n",
    "        accuracies[i-2] = performRegression(X_trainFolds, y_trainFolds, X_testFold, y_testFold, algorithm)\n",
    "        print('Accuracy on fold ' + str(i) + ': ', accuracies[i-2])\n",
    "    \n",
    "    accuracies[np.isinf(accuracies)] = max(accuracies[~np.isinf(accuracies)])\n",
    "    accuracies[np.isnan(accuracies)] = max(accuracies[~np.isnan(accuracies)])\n",
    "    \n",
    "    # the function returns the mean of the accuracy on the n-1 folds    \n",
    "    return accuracies.mean()"
   ]
  },
  {
   "cell_type": "code",
   "execution_count": 19,
   "metadata": {
    "scrolled": true
   },
   "outputs": [
    {
     "name": "stdout",
     "output_type": "stream",
     "text": [
      "Size train set:  (424, 5)\n",
      "Size of each fold: 42\n",
      "\n",
      "Splitting the first 2 chunks at 1/2\n",
      "Size of train + test:  (84, 5)\n",
      "Performing SVM Regression...\n",
      "Size of train set:  (42, 5)\n",
      "Size of test set:  (41, 5)\n",
      "Accuracy on fold 2:  114.14322819\n",
      "\n",
      "Splitting the first 3 chunks at 2/3\n",
      "Size of train + test:  (126, 5)\n",
      "Performing SVM Regression...\n",
      "Size of train set:  (84, 5)\n",
      "Size of test set:  (41, 5)\n",
      "Accuracy on fold 3:  97.7121870798\n",
      "\n",
      "Splitting the first 4 chunks at 3/4\n",
      "Size of train + test:  (168, 5)\n",
      "Performing SVM Regression...\n",
      "Size of train set:  (126, 5)\n",
      "Size of test set:  (41, 5)\n",
      "Accuracy on fold 4:  108.048003909\n",
      "\n",
      "Splitting the first 5 chunks at 4/5\n",
      "Size of train + test:  (210, 5)\n",
      "Performing SVM Regression...\n",
      "Size of train set:  (168, 5)\n",
      "Size of test set:  (41, 5)\n",
      "Accuracy on fold 5:  210.653054954\n",
      "\n",
      "Splitting the first 6 chunks at 5/6\n",
      "Size of train + test:  (252, 5)\n",
      "Performing SVM Regression...\n",
      "Size of train set:  (210, 5)\n",
      "Size of test set:  (41, 5)\n",
      "Accuracy on fold 6:  nan\n",
      "\n",
      "Splitting the first 7 chunks at 6/7\n",
      "Size of train + test:  (294, 5)\n",
      "Performing SVM Regression...\n",
      "Size of train set:  (252, 5)\n",
      "Size of test set:  (41, 5)\n",
      "Accuracy on fold 7:  194.721489014\n",
      "\n",
      "Splitting the first 8 chunks at 7/8\n",
      "Size of train + test:  (336, 5)\n",
      "Performing SVM Regression...\n",
      "Size of train set:  (294, 5)\n",
      "Size of test set:  (41, 5)\n",
      "Accuracy on fold 8:  457.898937283\n",
      "\n",
      "Splitting the first 9 chunks at 8/9\n",
      "Size of train + test:  (378, 5)\n",
      "Performing SVM Regression...\n",
      "Size of train set:  (336, 5)\n",
      "Size of test set:  (41, 5)\n",
      "Accuracy on fold 9:  270.064255109\n",
      "\n",
      "Splitting the first 10 chunks at 9/10\n",
      "Size of train + test:  (420, 5)\n",
      "Performing SVM Regression...\n",
      "Size of train set:  (378, 5)\n",
      "Size of test set:  (41, 5)\n",
      "Accuracy on fold 10:  491.189641434\n"
     ]
    },
    {
     "data": {
      "text/plain": [
       "270.6244931562594"
      ]
     },
     "execution_count": 19,
     "metadata": {},
     "output_type": "execute_result"
    }
   ],
   "source": [
    "performTimeSeriesCV(X_train_pca, y_train, number_folds=10, algorithm='SVM')"
   ]
  },
  {
   "cell_type": "code",
   "execution_count": 9,
   "metadata": {},
   "outputs": [
    {
     "data": {
      "text/plain": [
       "162.05706811897687"
      ]
     },
     "execution_count": 9,
     "metadata": {},
     "output_type": "execute_result"
    }
   ],
   "source": [
    "performSVR(X_train_pca, y_train, X_test_pca, y_test)"
   ]
  },
  {
   "cell_type": "code",
   "execution_count": 18,
   "metadata": {
    "scrolled": true
   },
   "outputs": [
    {
     "name": "stdout",
     "output_type": "stream",
     "text": [
      "Size train set:  (424, 5)\n",
      "Size of each fold: 42\n",
      "\n",
      "Splitting the first 2 chunks at 1/2\n",
      "Size of train + test:  (84, 5)\n",
      "Performing ADA Regression...\n",
      "Size of train set:  (42, 5)\n",
      "Size of test set:  (41, 5)\n",
      "Accuracy on fold 2:  412.749472026\n",
      "\n",
      "Splitting the first 3 chunks at 2/3\n",
      "Size of train + test:  (126, 5)\n",
      "Performing ADA Regression...\n",
      "Size of train set:  (84, 5)\n",
      "Size of test set:  (41, 5)\n",
      "Accuracy on fold 3:  174.470264389\n",
      "\n",
      "Splitting the first 4 chunks at 3/4\n",
      "Size of train + test:  (168, 5)\n",
      "Performing ADA Regression...\n",
      "Size of train set:  (126, 5)\n",
      "Size of test set:  (41, 5)\n",
      "Accuracy on fold 4:  383.570135629\n",
      "\n",
      "Splitting the first 5 chunks at 4/5\n",
      "Size of train + test:  (210, 5)\n",
      "Performing ADA Regression...\n",
      "Size of train set:  (168, 5)\n",
      "Size of test set:  (41, 5)\n",
      "Accuracy on fold 5:  816.030032414\n",
      "\n",
      "Splitting the first 6 chunks at 5/6\n",
      "Size of train + test:  (252, 5)\n",
      "Performing ADA Regression...\n",
      "Size of train set:  (210, 5)\n",
      "Size of test set:  (41, 5)\n",
      "Accuracy on fold 6:  inf\n",
      "\n",
      "Splitting the first 7 chunks at 6/7\n",
      "Size of train + test:  (294, 5)\n",
      "Performing ADA Regression...\n",
      "Size of train set:  (252, 5)\n",
      "Size of test set:  (41, 5)\n",
      "Accuracy on fold 7:  446.434727164\n",
      "\n",
      "Splitting the first 8 chunks at 7/8\n",
      "Size of train + test:  (336, 5)\n",
      "Performing ADA Regression...\n",
      "Size of train set:  (294, 5)\n",
      "Size of test set:  (41, 5)\n",
      "Accuracy on fold 8:  755.441746111\n",
      "\n",
      "Splitting the first 9 chunks at 8/9\n",
      "Size of train + test:  (378, 5)\n",
      "Performing ADA Regression...\n",
      "Size of train set:  (336, 5)\n",
      "Size of test set:  (41, 5)\n",
      "Accuracy on fold 9:  457.68514545\n",
      "\n",
      "Splitting the first 10 chunks at 9/10\n",
      "Size of train + test:  (420, 5)\n",
      "Performing ADA Regression...\n",
      "Size of train set:  (378, 5)\n",
      "Size of test set:  (41, 5)\n",
      "Accuracy on fold 10:  1083.16017933\n"
     ]
    },
    {
     "data": {
      "text/plain": [
       "623.63354242582182"
      ]
     },
     "execution_count": 18,
     "metadata": {},
     "output_type": "execute_result"
    }
   ],
   "source": [
    "performTimeSeriesCV(X_train_pca, y_train, number_folds=10, algorithm='ADA')"
   ]
  },
  {
   "cell_type": "code",
   "execution_count": 11,
   "metadata": {},
   "outputs": [
    {
     "data": {
      "text/plain": [
       "149.24491625056729"
      ]
     },
     "execution_count": 11,
     "metadata": {},
     "output_type": "execute_result"
    }
   ],
   "source": [
    "performAdaBoostR(X_train_pca, y_train, X_test_pca, y_test)"
   ]
  },
  {
   "cell_type": "code",
   "execution_count": null,
   "metadata": {},
   "outputs": [],
   "source": [
    "start = datetime(2017, 11, 30) - pd.Timedelta(days=len(X_train_pca))\n",
    "date = pd.date_range(start, periods=len(X_train_pca), freq='D')[::-1]\n",
    "X_train_fb = pd.concat([pd.DataFrame(date), pd.DataFrame(y_train)], axis=1)\n",
    "X_train_fb.columns = ['ds', 'y']\n",
    "\n",
    "ax = X_train_fb.set_index('ds').plot(figsize=(12, 8))\n",
    "ax.set_ylabel('Normalized Close')\n",
    "ax.set_xlabel('Date')\n",
    "\n",
    "plt.show()"
   ]
  }
 ],
 "metadata": {
  "kernelspec": {
   "display_name": "Python 3",
   "language": "python",
   "name": "python3"
  },
  "language_info": {
   "codemirror_mode": {
    "name": "ipython",
    "version": 3
   },
   "file_extension": ".py",
   "mimetype": "text/x-python",
   "name": "python",
   "nbconvert_exporter": "python",
   "pygments_lexer": "ipython3",
   "version": "3.6.1"
  }
 },
 "nbformat": 4,
 "nbformat_minor": 2
}
