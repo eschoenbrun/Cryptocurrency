{
 "cells": [
  {
   "cell_type": "code",
   "execution_count": 21,
   "metadata": {
    "collapsed": true
   },
   "outputs": [],
   "source": [
    "%matplotlib inline\n",
    "import matplotlib.pyplot as plt\n",
    "plt.style.use('fivethirtyeight')\n",
    "import numpy as np\n",
    "import pandas as pd\n",
    "import warnings\n",
    "warnings.filterwarnings(\"ignore\")\n",
    "import statsmodels.api as sm\n",
    "from sklearn.model_selection import TimeSeriesSplit\n",
    "from sklearn.model_selection import train_test_split\n",
    "from sklearn.svm import SVR\n",
    "from sklearn.tree import DecisionTreeRegressor\n",
    "from sklearn.ensemble import AdaBoostRegressor\n",
    "from sklearn.decomposition import PCA\n",
    "from time import time"
   ]
  },
  {
   "cell_type": "code",
   "execution_count": 23,
   "metadata": {
    "collapsed": true
   },
   "outputs": [],
   "source": [
    "df_final = pd.DataFrame.from_csv('C:/Users/Stevens/Desktop/BIA 656/Project/df_final.csv')"
   ]
  },
  {
   "cell_type": "code",
   "execution_count": 24,
   "metadata": {
    "collapsed": true
   },
   "outputs": [],
   "source": [
    "X_train, X_test, y_train, y_test = train_test_split(df_final.drop(['Close: t'], axis=1).values, \n",
    "                                                    df_final['Close: t'].values, \n",
    "                                                    test_size=0.3, \n",
    "                                                    random_state=42)"
   ]
  },
  {
   "cell_type": "code",
   "execution_count": 6,
   "metadata": {
    "collapsed": true
   },
   "outputs": [
    {
     "name": "stdout",
     "output_type": "stream",
     "text": [
      "[  23.24   44.11   63.     78.59   92.41  100.    100.    100.    100.\n",
      "  100.    100.    100.    100.    100.    100.    100.    100.    100.\n",
      "  100.    100.    100.    100.    100.    100.    100.    100.    100.\n",
      "  100.    100.    100.    100.    100.    100.    100.    100.    100.\n",
      "  100.    100.    100.    100.    100.    100.    100.    100.    100.\n",
      "  100.    100.    100.    100.    100.    100.    100.    100.    100.\n",
      "  100.    100.    100.    100.    100.    100.    100.    100.    100.\n",
      "  100.    100.    100.    100.    100.    100.    100.    100.  ]\n"
     ]
    },
    {
     "data": {
      "image/png": "[encoded data removed]",
      "text/plain": [
       "<matplotlib.figure.Figure at 0x22bf86d86a0>"
      ]
     },
     "metadata": {},
     "output_type": "display_data"
    }
   ],
   "source": [
    "pca_plot = PCA().fit(X_train)\n",
    "pca_plot = np.cumsum(np.round(pca_plot.explained_variance_ratio_, decimals=4)*100)\n",
    "plt.plot(pca_plot)\n",
    "plt.xlabel('number of components')\n",
    "plt.ylabel('cumulative explained variance')\n",
    "print(pca_plot)"
   ]
  },
  {
   "cell_type": "code",
   "execution_count": 25,
   "metadata": {},
   "outputs": [
    {
     "name": "stdout",
     "output_type": "stream",
     "text": [
      "Extracting the top 5 components from 305 variables\n",
      "done in 0.012s\n",
      "Projecting the input data on the orthonormal basis\n",
      "done in 0.002s\n"
     ]
    }
   ],
   "source": [
    "n_components = len(pca_plot[pca_plot < 95])\n",
    "print(\"Extracting the top %d components from %d variables\"\n",
    "      % (n_components, X_train.shape[0]))\n",
    "t0 = time()\n",
    "pca = PCA(n_components=n_components, svd_solver='randomized').fit(X_train)\n",
    "print(\"done in %0.3fs\" % (time() - t0))\n",
    "\n",
    "print(\"Projecting the input data on the orthonormal basis\")\n",
    "t0 = time()\n",
    "X_train_pca = pca.transform(X_train)\n",
    "X_test_pca = pca.transform(X_test)\n",
    "print(\"done in %0.3fs\" % (time() - t0))"
   ]
  },
  {
   "cell_type": "code",
   "execution_count": 27,
   "metadata": {
    "collapsed": true
   },
   "outputs": [],
   "source": [
    "def performSVR(X_train, y_train, X_test, y_test):\n",
    "    \"\"\"\n",
    "    SVM Regression\n",
    "    \"\"\"\n",
    "    \n",
    "    # Fit regression model\n",
    "    svr_rbf = SVR(kernel='rbf', C=1e3, gamma=0.1)\n",
    "    svr_lin = SVR(kernel='linear', C=1e3)\n",
    "    svr_poly = SVR(kernel='poly', C=1e3, degree=2)\n",
    "    \n",
    "    # Predict\n",
    "    y_rbf = svr_rbf.fit(X_train, y_train)\n",
    "    y_lin = svr_lin.fit(X_train, y_train)\n",
    "    y_poly = svr_poly.fit(X_train, y_train)\n",
    "    \n",
    "    accuracy_rbf = y_rbf.score(X_test, y_test)\n",
    "    accuracy_lin = y_lin.score(X_test, y_test)\n",
    "    accuracy_poly = y_poly.score(X_test, y_test)\n",
    "    \n",
    "    return accuracy_rbf, accuracy_lin, accuracy_poly\n",
    "\n",
    "def performAdaBoostR(X_train, y_train, X_test, y_test):\n",
    "    \"\"\"\n",
    "    Ada Boosting binary Classification\n",
    "    \"\"\"\n",
    "    \n",
    "    clf = AdaBoostClassifier()\n",
    "    clf.fit(X_train, y_train)\n",
    "    \n",
    "    # Fit regression model\n",
    "    DTR = DecisionTreeRegressor(max_depth=4).fit(X_train, y_train)\n",
    "    ADA = AdaBoostRegressor(DecisionTreeRegressor(max_depth=4), n_estimators=300, random_state=rng).fit(X, y)\n",
    "\n",
    "    # Predict\n",
    "    #y_1 = DTR.predict(X_train)\n",
    "    #y_2 = ADA.predict(X_train)\n",
    "    \n",
    "    accuracy_DTR = clf.score(X_test, y_test)\n",
    "    accuracy_ADA = clf.score(X_test, y_test)\n",
    "    \n",
    "    return accuracy_DTR, accuracy_ADA"
   ]
  },
  {
   "cell_type": "code",
   "execution_count": null,
   "metadata": {},
   "outputs": [],
   "source": [
    "performSVR(X_train, y_train, X_test, y_test)"
   ]
  },
  {
   "cell_type": "code",
   "execution_count": null,
   "metadata": {
    "collapsed": true
   },
   "outputs": [],
   "source": [
    "# Based on http://francescopochetti.com/pythonic-cross-validation-time-series-pandas-scikit-learn/\n",
    "\n",
    "def performTimeSeriesCV(X_train, y_train, number_folds, algorithm, parameters):\n",
    "    print 'Parameters --------------------------------> ', parameters\n",
    "    print 'Size train set: ', X_train.shape\n",
    "    \n",
    "    k = int(np.floor(float(X_train.shape[0]) / number_folds))\n",
    "    print 'Size of each fold: ', k\n",
    "    \n",
    "    accuracies = np.zeros(folds-1)\n",
    " \n",
    "    # loop from the first 2 folds to the total number of folds    \n",
    "    for i in range(2, number_folds + 1):\n",
    "        print ''\n",
    "        \n",
    "        split = float(i-1)/i\n",
    "        \n",
    "        print 'Splitting the first ' + str(i) + ' chunks at ' + str(i-1) + '/' + str(i) \n",
    "\n",
    "        X = X_train[:(k*i)]\n",
    "        y = y_train[:(k*i)]\n",
    "        print 'Size of train + test: ', X.shape # the size of the dataframe is going to be k*i\n",
    " \n",
    "        index = int(np.floor(X.shape[0] * split))\n",
    "        \n",
    "        X_trainFolds = X[:index]        \n",
    "        y_trainFolds = y[:index]\n",
    "        X_testFold = X[(index + 1):]\n",
    "        y_testFold = y[(index + 1):]\n",
    "        \n",
    "        accuracies[i-2] = performClassification(X_trainFolds, y_trainFolds, X_testFolds, y_testFolds, algorithm, parameters)\n",
    "        print 'Accuracy on fold ' + str(i) + ': ', acc[i-2]\n",
    "    \n",
    "    # the function returns the mean of the accuracy on the n-1 folds    \n",
    "    return accuracies.mean()"
   ]
  },
  {
   "cell_type": "code",
   "execution_count": null,
   "metadata": {
    "collapsed": true
   },
   "outputs": [],
   "source": [
    "# split into train and test sets\n",
    "X = df_final.values\n",
    "splits = TimeSeriesSplit(n_splits=3)\n",
    "pyplot.figure(1)\n",
    "index = 1\n",
    "for train_index, test_index in splits.split(X):\n",
    "\ttrain = X[train_index]\n",
    "\ttest = X[test_index]\n",
    "\tprint('Observations: %d' % (len(train) + len(test)))\n",
    "\tprint('Training Observations: %d' % (len(train)))\n",
    "\tprint('Testing Observations: %d' % (len(test)))\n",
    "\tpyplot.subplot(310 + index)\n",
    "\tpyplot.plot(train)\n",
    "\tpyplot.plot([None for i in train] + [x for x in test])\n",
    "\tindex += 1\n",
    "pyplot.show()"
   ]
  }
 ],
 "metadata": {
  "kernelspec": {
   "display_name": "Python 3",
   "language": "python",
   "name": "python3"
  },
  "language_info": {
   "codemirror_mode": {
    "name": "ipython",
    "version": 3
   },
   "file_extension": ".py",
   "mimetype": "text/x-python",
   "name": "python",
   "nbconvert_exporter": "python",
   "pygments_lexer": "ipython3",
   "version": "3.6.1"
  }
 },
 "nbformat": 4,
 "nbformat_minor": 2
}
