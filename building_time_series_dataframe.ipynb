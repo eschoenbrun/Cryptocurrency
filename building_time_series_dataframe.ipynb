{
 "cells": [
  {
   "cell_type": "code",
   "execution_count": 1,
   "metadata": {},
   "outputs": [
    {
     "name": "stderr",
     "output_type": "stream",
     "text": [
      "C:\\Users\\Stevens\\Anaconda3\\lib\\site-packages\\statsmodels\\compat\\pandas.py:56: FutureWarning: The pandas.core.datetools module is deprecated and will be removed in a future version. Please use the pandas.tseries module instead.\n",
      "  from pandas.core import datetools\n"
     ]
    }
   ],
   "source": [
    "# To install package which finds arima order \n",
    "# !pip install pyramid-arima\n",
    "from pyramid.arima import auto_arima"
   ]
  },
  {
   "cell_type": "code",
   "execution_count": 2,
   "metadata": {
    "collapsed": true
   },
   "outputs": [],
   "source": [
    "%matplotlib inline\n",
    "import matplotlib.pyplot as plt\n",
    "plt.style.use('fivethirtyeight')\n",
    "import urllib3\n",
    "import itertools\n",
    "import time\n",
    "import datetime\n",
    "from datetime import timedelta\n",
    "import numpy as np\n",
    "import pandas as pd\n",
    "import warnings\n",
    "warnings.filterwarnings(\"ignore\")\n",
    "from pandas.tools.plotting import lag_plot, scatter_matrix, autocorrelation_plot\n",
    "from pandas import Series, DataFrame, concat\n",
    "import statsmodels.api as sm\n",
    "import statsmodels.tsa.arima_process as tsp\n",
    "from statsmodels.graphics.tsaplots import plot_acf, plot_pacf\n",
    "from statsmodels.tsa.stattools import acf, pacf\n",
    "from statsmodels.tsa.ar_model import AR\n",
    "from statsmodels.tsa.arima_process import arma_generate_sample\n",
    "from sklearn.metrics import mean_squared_error\n",
    "from sklearn.model_selection import TimeSeriesSplit\n",
    "from scipy.stats import boxcox\n",
    "\n",
    "import logging\n",
    "logging.basicConfig(format='%(asctime)s %(message)s', filename=\"BIA656-crypto_dataset.log\", level=logging.DEBUG)\n",
    "logger = logging.getLogger(__name__)"
   ]
  },
  {
   "cell_type": "code",
   "execution_count": 4,
   "metadata": {},
   "outputs": [],
   "source": [
    "# Import the csv file with historical neo data and other variables\n",
    "logger.info('Define Source')\n",
    "data = pd.DataFrame.from_csv('C:/Users/Stevens/Desktop/BIA 656/Project/neo.csv')\n",
    "logger.debug('df: %s', data)"
   ]
  },
  {
   "cell_type": "code",
   "execution_count": null,
   "metadata": {
    "collapsed": true
   },
   "outputs": [],
   "source": [
    "# Different types of autocorrelation plots\n",
    "logging.info('acf plotting')\n",
    "\n",
    "autocorrelation_plot(data['Close'])\n",
    "sm.graphics.tsa.plot_acf(data['Close'], lags=50)\n",
    "plot_pacf(data['Close'], lags=50)\n",
    "\n",
    "values = DataFrame(data['Close'].values)\n",
    "lags = 25\n",
    "columns = [values]\n",
    "for i in range(1,(lags + 1)):\n",
    "\tcolumns.append(values.shift(i))\n",
    "dframe = concat(columns, axis=1)\n",
    "columns = ['t+1']\n",
    "for i in range(1,(lags + 1)):\n",
    "\tcolumns.append('t-' + str(i))\n",
    "dframe.columns = columns\n",
    "pyplot.figure(1, figsize=(20,20))\n",
    "\n",
    "for i in range(1,(lags + 1)):\n",
    "\tax = pyplot.subplot(5, 5, i)\n",
    "\tax.set_title('t+1 vs t-' + str(i))\n",
    "\tpyplot.scatter(x=dframe['t+1'].values, y=dframe['t-'+str(i)].values)\n",
    "pyplot.show()"
   ]
  },
  {
   "cell_type": "code",
   "execution_count": 5,
   "metadata": {
    "collapsed": true
   },
   "outputs": [],
   "source": [
    "# Setting date as index\n",
    "logging.info('Setting up dataframe')\n",
    "data = data.reset_index()\n",
    "data['Date'] = pd.to_datetime(data['Date'])\n",
    "data.index = pd.DatetimeIndex(data.Date)"
   ]
  },
  {
   "cell_type": "code",
   "execution_count": null,
   "metadata": {
    "collapsed": true
   },
   "outputs": [],
   "source": [
    "# Quickly determining if target variable is stationary\n",
    "logging.info('Checking if target variable is stationary')\n",
    "stat_check = sm.tsa.adfuller(data['Close'])\n",
    "if stat_check[0]> stat_check[4]['5%']: \n",
    "    print('Time Series is  nonstationary')\n",
    "else:\n",
    "    print('Time Series is stationary')"
   ]
  },
  {
   "cell_type": "code",
   "execution_count": 6,
   "metadata": {
    "collapsed": true
   },
   "outputs": [],
   "source": [
    "# Setting up dataframe\n",
    "logging.info('Dropping unnecessary variables')\n",
    "data.drop(['Date', 'Open', 'High', 'Low', 'Market Cap', 'Dependent Variable'], axis=1, inplace=True)"
   ]
  },
  {
   "cell_type": "code",
   "execution_count": 7,
   "metadata": {
    "collapsed": true
   },
   "outputs": [],
   "source": [
    "# Function to determine lags\n",
    "logging.info('Determining lags')\n",
    "def stepwise_fit(data):\n",
    "    model_order = auto_arima(data, start_p=1, start_q=1, max_p=30, max_q=2, m=12,\n",
    "                          start_P=0, seasonal=False, d=1, D=1,\n",
    "                          error_action='ignore',  # don't want to know if an order does not work\n",
    "                          suppress_warnings=True,  # don't want convergence warnings\n",
    "                          stepwise=False,\n",
    "                          random=True, random_state=42, n_fits=25) # we can fit a random search (not exhaustive)\n",
    "    return model_order.order[0]"
   ]
  },
  {
   "cell_type": "code",
   "execution_count": 8,
   "metadata": {
    "collapsed": true,
    "scrolled": true
   },
   "outputs": [],
   "source": [
    "# Building dictionary of lags\n",
    "logging.info('Building dictionary of lags')\n",
    "\n",
    "df_lags = {}\n",
    "for i in range(0,len(data.columns)):\n",
    "    df = data.iloc[:, i]\n",
    "    variable = str(data.columns[i])\n",
    "    lag_periods = stepwise_fit(data.Close)\n",
    "    df_lags[variable] = lag_periods"
   ]
  },
  {
   "cell_type": "code",
   "execution_count": 9,
   "metadata": {
    "collapsed": true
   },
   "outputs": [],
   "source": [
    "# Appending lag values to dataframe for each variable\n",
    "logging.info('Appending lag values')\n",
    "\n",
    "df_final = pd.DataFrame()\n",
    "for i in range(0,len(data.columns)):\n",
    "    df = data.iloc[:, i]\n",
    "    variable = str(data.columns[i])\n",
    "    lag_periods = df_lags[variable]\n",
    "    if len(df[df==0]) > 0:\n",
    "        df.loc[df==0] = min(df[df>0]) *.5\n",
    "    df = boxcox(df)[0]\n",
    "    df = pd.DataFrame(df).diff()\n",
    "    lags = list(range(-lag_periods, 0))[::-1]\n",
    "    dataframe = pd.DataFrame()\n",
    "    dataframe = dataframe.append(df)\n",
    "    dataframe.columns = [str(variable + ': t')]\n",
    "    cols = [data.columns[i] + ': t' + str(s) for s in lags]\n",
    "    cols = cols + list(dataframe.columns)\n",
    "    dataframe = dataframe.reindex(columns = cols)\n",
    "    for i in range(0, lag_periods):\n",
    "        dataframe.iloc[:, i] = dataframe[str(variable + ': t')].shift(-i-1)\n",
    "    if not df_final.empty:\n",
    "        df_final = pd.concat([df_final, dataframe], axis=1) \n",
    "    else:\n",
    "        df_final = dataframe"
   ]
  },
  {
   "cell_type": "code",
   "execution_count": 12,
   "metadata": {},
   "outputs": [],
   "source": [
    "# Removing observations at end of dataframe with na values\n",
    "logging.info('Finishing dataset')\n",
    "df_final = df_final[1:-10]"
   ]
  },
  {
   "cell_type": "code",
   "execution_count": 13,
   "metadata": {
    "collapsed": true
   },
   "outputs": [],
   "source": [
    "# Saving data\n",
    "logging.info('Saving')\n",
    "df_final.to_csv('C:/Users/Stevens/Desktop/BIA 656/Project/df_final.csv')"
   ]
  }
 ],
 "metadata": {
  "kernelspec": {
   "display_name": "Python 3",
   "language": "python",
   "name": "python3"
  },
  "language_info": {
   "codemirror_mode": {
    "name": "ipython",
    "version": 3
   },
   "file_extension": ".py",
   "mimetype": "text/x-python",
   "name": "python",
   "nbconvert_exporter": "python",
   "pygments_lexer": "ipython3",
   "version": "3.6.1"
  }
 },
 "nbformat": 4,
 "nbformat_minor": 2
}
