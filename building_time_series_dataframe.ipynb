{
 "cells": [
  {
   "cell_type": "code",
   "execution_count": 1,
   "metadata": {
    "collapsed": true
   },
   "outputs": [],
   "source": [
    "%matplotlib inline\n",
    "import matplotlib.pyplot as plt\n",
    "import numpy as np\n",
    "import pandas as pd\n",
    "import warnings\n",
    "warnings.filterwarnings(\"ignore\")\n",
    "from pandas.tools.plotting import lag_plot, scatter_matrix, autocorrelation_plot\n",
    "from pandas import Series, DataFrame, concat\n",
    "import statsmodels.api as sm\n",
    "from statsmodels.graphics.tsaplots import plot_acf, plot_pacf\n",
    "from scipy.stats import boxcox\n",
    "\n",
    "import logging\n",
    "logging.basicConfig(format='%(asctime)s %(message)s', filename=\"BIA656-crypto_dataset.log\", level=logging.DEBUG)\n",
    "logger = logging.getLogger(__name__)"
   ]
  },
  {
   "cell_type": "code",
   "execution_count": 6,
   "metadata": {
    "collapsed": true
   },
   "outputs": [],
   "source": [
    "# To install package which finds arima order \n",
    "# !pip install pyramid-arima\n",
    "from pyramid.arima import auto_arima"
   ]
  },
  {
   "cell_type": "code",
   "execution_count": 2,
   "metadata": {
    "collapsed": true
   },
   "outputs": [],
   "source": [
    "# Import the csv file with historical neo data and other variables\n",
    "logger.info('Define Source')\n",
    "data = pd.DataFrame.from_csv('~\\\\neo.csv')\n",
    "logger.debug('df: %s', data)"
   ]
  },
  {
   "cell_type": "code",
   "execution_count": null,
   "metadata": {
    "collapsed": true
   },
   "outputs": [],
   "source": [
    "# Different types of autocorrelation plots\n",
    "\n",
    "'''\n",
    "logging.info('acf plotting')\n",
    "\n",
    "autocorrelation_plot(data['Close'])\n",
    "sm.graphics.tsa.plot_acf(data['Close'], lags=50)\n",
    "plot_pacf(data['Close'], lags=50)\n",
    "'''"
   ]
  },
  {
   "cell_type": "code",
   "execution_count": 8,
   "metadata": {},
   "outputs": [
    {
     "data": {
      "text/html": [
       "<div>\n",
       "<style>\n",
       "    .dataframe thead tr:only-child th {\n",
       "        text-align: right;\n",
       "    }\n",
       "\n",
       "    .dataframe thead th {\n",
       "        text-align: left;\n",
       "    }\n",
       "\n",
       "    .dataframe tbody tr th {\n",
       "        vertical-align: top;\n",
       "    }\n",
       "</style>\n",
       "<table border=\"1\" class=\"dataframe\">\n",
       "  <thead>\n",
       "    <tr style=\"text-align: right;\">\n",
       "      <th></th>\n",
       "      <th>Open</th>\n",
       "      <th>High</th>\n",
       "      <th>Low</th>\n",
       "      <th>Close</th>\n",
       "      <th>Volume</th>\n",
       "      <th>Market Cap</th>\n",
       "      <th>Created_At</th>\n",
       "      <th>Sum of retweet_count</th>\n",
       "      <th>Sum of favorite_count</th>\n",
       "      <th>Avg Retweet</th>\n",
       "      <th>Avg favorite_count</th>\n",
       "      <th>Google Trends</th>\n",
       "      <th>Num_upvotes</th>\n",
       "      <th>Avg_Up_Ratio</th>\n",
       "      <th>Post_Count</th>\n",
       "      <th>Comments_Count</th>\n",
       "      <th>Dependent Variable</th>\n",
       "    </tr>\n",
       "    <tr>\n",
       "      <th>Date</th>\n",
       "      <th></th>\n",
       "      <th></th>\n",
       "      <th></th>\n",
       "      <th></th>\n",
       "      <th></th>\n",
       "      <th></th>\n",
       "      <th></th>\n",
       "      <th></th>\n",
       "      <th></th>\n",
       "      <th></th>\n",
       "      <th></th>\n",
       "      <th></th>\n",
       "      <th></th>\n",
       "      <th></th>\n",
       "      <th></th>\n",
       "      <th></th>\n",
       "      <th></th>\n",
       "    </tr>\n",
       "  </thead>\n",
       "  <tbody>\n",
       "    <tr>\n",
       "      <th>2017-11-30</th>\n",
       "      <td>32.54</td>\n",
       "      <td>34.98</td>\n",
       "      <td>30.09</td>\n",
       "      <td>32.96</td>\n",
       "      <td>78895100</td>\n",
       "      <td>2115360000</td>\n",
       "      <td>3</td>\n",
       "      <td>208</td>\n",
       "      <td>518</td>\n",
       "      <td>69.333333</td>\n",
       "      <td>172.666667</td>\n",
       "      <td>0</td>\n",
       "      <td>1681</td>\n",
       "      <td>0.938182</td>\n",
       "      <td>15</td>\n",
       "      <td>418</td>\n",
       "      <td>1</td>\n",
       "    </tr>\n",
       "    <tr>\n",
       "      <th>2017-11-29</th>\n",
       "      <td>37.99</td>\n",
       "      <td>39.44</td>\n",
       "      <td>31.23</td>\n",
       "      <td>32.28</td>\n",
       "      <td>137123000</td>\n",
       "      <td>2469340000</td>\n",
       "      <td>2</td>\n",
       "      <td>318</td>\n",
       "      <td>700</td>\n",
       "      <td>159.000000</td>\n",
       "      <td>350.000000</td>\n",
       "      <td>83</td>\n",
       "      <td>4048</td>\n",
       "      <td>0.918462</td>\n",
       "      <td>16</td>\n",
       "      <td>1614</td>\n",
       "      <td>0</td>\n",
       "    </tr>\n",
       "    <tr>\n",
       "      <th>2017-11-28</th>\n",
       "      <td>40.13</td>\n",
       "      <td>40.13</td>\n",
       "      <td>37.47</td>\n",
       "      <td>38.08</td>\n",
       "      <td>80129000</td>\n",
       "      <td>2608660000</td>\n",
       "      <td>4</td>\n",
       "      <td>281</td>\n",
       "      <td>506</td>\n",
       "      <td>70.250000</td>\n",
       "      <td>126.500000</td>\n",
       "      <td>83</td>\n",
       "      <td>4548</td>\n",
       "      <td>0.963182</td>\n",
       "      <td>25</td>\n",
       "      <td>1465</td>\n",
       "      <td>0</td>\n",
       "    </tr>\n",
       "    <tr>\n",
       "      <th>2017-11-27</th>\n",
       "      <td>38.32</td>\n",
       "      <td>41.91</td>\n",
       "      <td>38.32</td>\n",
       "      <td>40.13</td>\n",
       "      <td>83345900</td>\n",
       "      <td>2491020000</td>\n",
       "      <td>2</td>\n",
       "      <td>216</td>\n",
       "      <td>0</td>\n",
       "      <td>108.000000</td>\n",
       "      <td>0.000000</td>\n",
       "      <td>83</td>\n",
       "      <td>1596</td>\n",
       "      <td>0.947500</td>\n",
       "      <td>9</td>\n",
       "      <td>294</td>\n",
       "      <td>1</td>\n",
       "    </tr>\n",
       "    <tr>\n",
       "      <th>2017-11-26</th>\n",
       "      <td>38.04</td>\n",
       "      <td>39.20</td>\n",
       "      <td>37.49</td>\n",
       "      <td>38.44</td>\n",
       "      <td>61597700</td>\n",
       "      <td>2472680000</td>\n",
       "      <td>1</td>\n",
       "      <td>130</td>\n",
       "      <td>325</td>\n",
       "      <td>130.000000</td>\n",
       "      <td>325.000000</td>\n",
       "      <td>86</td>\n",
       "      <td>1181</td>\n",
       "      <td>0.938182</td>\n",
       "      <td>13</td>\n",
       "      <td>299</td>\n",
       "      <td>1</td>\n",
       "    </tr>\n",
       "  </tbody>\n",
       "</table>\n",
       "</div>"
      ],
      "text/plain": [
       "             Open   High    Low  Close     Volume  Market Cap  Created_At  \\\n",
       "Date                                                                        \n",
       "2017-11-30  32.54  34.98  30.09  32.96   78895100  2115360000           3   \n",
       "2017-11-29  37.99  39.44  31.23  32.28  137123000  2469340000           2   \n",
       "2017-11-28  40.13  40.13  37.47  38.08   80129000  2608660000           4   \n",
       "2017-11-27  38.32  41.91  38.32  40.13   83345900  2491020000           2   \n",
       "2017-11-26  38.04  39.20  37.49  38.44   61597700  2472680000           1   \n",
       "\n",
       "            Sum of retweet_count  Sum of favorite_count  Avg Retweet  \\\n",
       "Date                                                                   \n",
       "2017-11-30                   208                    518    69.333333   \n",
       "2017-11-29                   318                    700   159.000000   \n",
       "2017-11-28                   281                    506    70.250000   \n",
       "2017-11-27                   216                      0   108.000000   \n",
       "2017-11-26                   130                    325   130.000000   \n",
       "\n",
       "            Avg favorite_count  Google Trends  Num_upvotes  Avg_Up_Ratio  \\\n",
       "Date                                                                       \n",
       "2017-11-30          172.666667              0         1681      0.938182   \n",
       "2017-11-29          350.000000             83         4048      0.918462   \n",
       "2017-11-28          126.500000             83         4548      0.963182   \n",
       "2017-11-27            0.000000             83         1596      0.947500   \n",
       "2017-11-26          325.000000             86         1181      0.938182   \n",
       "\n",
       "            Post_Count  Comments_Count  Dependent Variable  \n",
       "Date                                                        \n",
       "2017-11-30          15             418                   1  \n",
       "2017-11-29          16            1614                   0  \n",
       "2017-11-28          25            1465                   0  \n",
       "2017-11-27           9             294                   1  \n",
       "2017-11-26          13             299                   1  "
      ]
     },
     "execution_count": 8,
     "metadata": {},
     "output_type": "execute_result"
    }
   ],
   "source": [
    "data.head()"
   ]
  },
  {
   "cell_type": "code",
   "execution_count": null,
   "metadata": {
    "collapsed": true
   },
   "outputs": [],
   "source": [
    "# Different types of autocorrelation plots\n",
    "\n",
    "'''\n",
    "values = DataFrame(data['Close'].values)\n",
    "lags = 25\n",
    "columns = [values]\n",
    "for i in range(1,(lags + 1)):\n",
    "\tcolumns.append(values.shift(i))\n",
    "dframe = concat(columns, axis=1)\n",
    "columns = ['t+1']\n",
    "for i in range(1,(lags + 1)):\n",
    "\tcolumns.append('t-' + str(i))\n",
    "dframe.columns = columns\n",
    "plt.figure(1, figsize=(20,20))\n",
    "\n",
    "for i in range(1,(lags + 1)):\n",
    "\tax = plt.subplot(5, 5, i)\n",
    "\tax.set_title('t+1 vs t-' + str(i))\n",
    "\tplt.scatter(x=dframe['t+1'].values, y=dframe['t-'+str(i)].values)\n",
    "plt.show()\n",
    "'''"
   ]
  },
  {
   "cell_type": "code",
   "execution_count": 9,
   "metadata": {
    "collapsed": true
   },
   "outputs": [],
   "source": [
    "# Setting date as index\n",
    "logging.info('Setting up dataframe')\n",
    "data = data.reset_index()\n",
    "data['Date'] = pd.to_datetime(data['Date'])\n",
    "data.index = pd.DatetimeIndex(data.Date)"
   ]
  },
  {
   "cell_type": "code",
   "execution_count": null,
   "metadata": {
    "collapsed": true
   },
   "outputs": [],
   "source": [
    "# Quickly determining if target variable is stationary\n",
    "logging.info('Checking if target variable is stationary')\n",
    "stat_check = sm.tsa.adfuller(data['Close'])\n",
    "if stat_check[0]> stat_check[4]['5%']: \n",
    "    print('Time Series is  nonstationary')\n",
    "else:\n",
    "    print('Time Series is stationary')"
   ]
  },
  {
   "cell_type": "code",
   "execution_count": 10,
   "metadata": {
    "collapsed": true
   },
   "outputs": [],
   "source": [
    "# Setting up dataframe\n",
    "logging.info('Dropping unnecessary variables')\n",
    "data.drop(['Date', 'Open', 'High', 'Low', 'Market Cap', 'Dependent Variable'], axis=1, inplace=True)"
   ]
  },
  {
   "cell_type": "code",
   "execution_count": 11,
   "metadata": {
    "collapsed": true
   },
   "outputs": [],
   "source": [
    "# Function to determine lags\n",
    "logging.info('Determining lags')\n",
    "def stepwise_fit(data):\n",
    "    model_order = auto_arima(data, start_p=1, start_q=1, max_p=30, max_q=2, m=12,\n",
    "                          start_P=0, seasonal=False, d=1, D=1,\n",
    "                          error_action='ignore',  # don't want to know if an order does not work\n",
    "                          suppress_warnings=True,  # don't want convergence warnings\n",
    "                          stepwise=False,\n",
    "                          random=True, random_state=42, n_fits=25) # we can fit a random search (not exhaustive)\n",
    "    return model_order.order[0]"
   ]
  },
  {
   "cell_type": "code",
   "execution_count": 12,
   "metadata": {
    "collapsed": true,
    "scrolled": true
   },
   "outputs": [],
   "source": [
    "# Building dictionary of lags (takes ~10 min)\n",
    "logging.info('Building dictionary of lags')\n",
    "\n",
    "df_lags = {}\n",
    "for i in range(0,len(data.columns)):\n",
    "    df = data.iloc[:, i]\n",
    "    variable = str(data.columns[i])\n",
    "    lag_periods = stepwise_fit(data.Close)\n",
    "    df_lags[variable] = lag_periods"
   ]
  },
  {
   "cell_type": "code",
   "execution_count": 13,
   "metadata": {
    "collapsed": true
   },
   "outputs": [],
   "source": [
    "# Appending lag values to dataframe for each variable\n",
    "logging.info('Appending lag values')\n",
    "\n",
    "df_final = pd.DataFrame()\n",
    "for i in range(0,len(data.columns)):\n",
    "    df = data.iloc[:, i]\n",
    "    variable = str(data.columns[i])\n",
    "    lag_periods = df_lags[variable]\n",
    "    if len(df[df==0]) > 0:\n",
    "        df.loc[df==0] = min(df[df>0]) *.5\n",
    "    df = boxcox(df)[0]\n",
    "    df = pd.DataFrame(df).diff()\n",
    "    lags = list(range(-lag_periods, 0))[::-1]\n",
    "    dataframe = pd.DataFrame()\n",
    "    dataframe = dataframe.append(df)\n",
    "    dataframe.columns = [str(variable + ': t')]\n",
    "    cols = [data.columns[i] + ': t' + str(s) for s in lags]\n",
    "    cols = cols + list(dataframe.columns)\n",
    "    dataframe = dataframe.reindex(columns = cols)\n",
    "    for i in range(0, lag_periods):\n",
    "        dataframe.iloc[:, i] = dataframe[str(variable + ': t')].shift(-i-1)\n",
    "    if not df_final.empty:\n",
    "        df_final = pd.concat([df_final, dataframe], axis=1) \n",
    "    else:\n",
    "        df_final = dataframe"
   ]
  },
  {
   "cell_type": "code",
   "execution_count": 20,
   "metadata": {
    "collapsed": true
   },
   "outputs": [],
   "source": [
    "# Removing observations at end of dataframe with na values\n",
    "logging.info('Finishing dataset')\n",
    "df_final['Close: t'] = df_final['Close: t'].shift(1)\n",
    "df_final = df_final[2:-15]"
   ]
  },
  {
   "cell_type": "code",
   "execution_count": 21,
   "metadata": {
    "collapsed": true
   },
   "outputs": [],
   "source": [
    "# Saving data\n",
    "logging.info('Saving')\n",
    "df_final.to_csv('~\\\\df_final.csv')"
   ]
  }
 ],
 "metadata": {
  "kernelspec": {
   "display_name": "Python 3",
   "language": "python",
   "name": "python3"
  },
  "language_info": {
   "codemirror_mode": {
    "name": "ipython",
    "version": 3
   },
   "file_extension": ".py",
   "mimetype": "text/x-python",
   "name": "python",
   "nbconvert_exporter": "python",
   "pygments_lexer": "ipython3",
   "version": "3.6.1"
  }
 },
 "nbformat": 4,
 "nbformat_minor": 2
}
